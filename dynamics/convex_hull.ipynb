{
 "metadata": {
  "name": "",
  "signature": "sha256:724a57b288c26e38e694daa52f19803bb7e3e2d847d20a9f46fc395da716e6ea"
 },
 "nbformat": 3,
 "nbformat_minor": 0,
 "worksheets": [
  {
   "cells": [
    {
     "cell_type": "code",
     "collapsed": false,
     "input": [
      "%matplotlib inline\n",
      "from pylab import *\n",
      "import numpy as np"
     ],
     "language": "python",
     "metadata": {},
     "outputs": [],
     "prompt_number": 11
    },
    {
     "cell_type": "code",
     "collapsed": false,
     "input": [
      "from scipy.spatial import ConvexHull\n",
      "\n",
      "points = np.random.rand(30, 2)   # 30 random points in 2-D\n",
      "hull = ConvexHull(points)"
     ],
     "language": "python",
     "metadata": {},
     "outputs": [],
     "prompt_number": 12
    },
    {
     "cell_type": "code",
     "collapsed": false,
     "input": [
      "figure()\n",
      "plot(points[:,0], points[:,1], 'o')\n",
      "hull_points = np.vstack([points[hull.vertices], points[hull.vertices[0]]])\n",
      "plot(hull_points[:,0], hull_points[:,1], '-o')\n",
      "show()"
     ],
     "language": "python",
     "metadata": {},
     "outputs": [
      {
       "metadata": {},
       "output_type": "display_data",
       "png": "[encoded data removed]",
       "text": [
        "<matplotlib.figure.Figure at 0x7f5d62313e90>"
       ]
      }
     ],
     "prompt_number": 13
    },
    {
     "cell_type": "code",
     "collapsed": false,
     "input": [
      "nao_foot_points = np.asarray([\n",
      "[0, -3.5],\n",
      "[1, -3.7],\n",
      "[2, -3.9],\n",
      "[3, -4.2],\n",
      "[4, -4.3],\n",
      "[5, -4.1],\n",
      "[6, -3.8],\n",
      "[7, -3.25],\n",
      "[8, -2.3],\n",
      "[8.5, -1],\n",
      "[8.7, 0],\n",
      "[8.8, 1],\n",
      "[8.6, 2],\n",
      "[8.2, 3],\n",
      "[7, 4.5],\n",
      "[6, 4.8],\n",
      "[5, 5],\n",
      "[4, 5],\n",
      "[3, 4.8],\n",
      "[2, 4.6],\n",
      "[1, 4.4],\n",
      "[0, 4.25],\n",
      "[-1, 4.15],\n",
      "[-2, 4.05],\n",
      "[-3, 4.0],\n",
      "[-4, 4.0],\n",
      "[-5, 4.1],\n",
      "[-6, 4.0],\n",
      "[-7, 3],\n",
      "[-7.5, 2.2],\n",
      "[-7.5, -2.0],\n",
      "[-6.7, -3.8],\n",
      "[-5.0, -5.0],\n",
      "[-4, -4.7],\n",
      "[-3, -3.9],\n",
      "[-2, -3.5],\n",
      "[-1, -3.5]\n",
      "])"
     ],
     "language": "python",
     "metadata": {},
     "outputs": [],
     "prompt_number": 14
    },
    {
     "cell_type": "code",
     "collapsed": false,
     "input": [],
     "language": "python",
     "metadata": {},
     "outputs": []
    }
   ],
   "metadata": {}
  }
 ]
}